{
  "nbformat": 4,
  "nbformat_minor": 0,
  "metadata": {
    "kernelspec": {
      "display_name": "Python 3",
      "language": "python",
      "name": "python3"
    },
    "language_info": {
      "codemirror_mode": {
        "name": "ipython",
        "version": 3
      },
      "file_extension": ".py",
      "mimetype": "text/x-python",
      "name": "python",
      "nbconvert_exporter": "python",
      "pygments_lexer": "ipython3",
      "version": "3.7.0"
    },
    "colab": {
      "provenance": []
    }
  },
  "cells": [
    {
      "cell_type": "markdown",
      "metadata": {
        "id": "cMrT-5F164qj"
      },
      "source": [
        "## Welcome to the Coding Challenge Part 2!"
      ]
    },
    {
      "cell_type": "markdown",
      "metadata": {
        "id": "79NwqjIq64qr"
      },
      "source": [
        "###**Problem 1: Who is in the third place?**"
      ]
    },
    {
      "cell_type": "markdown",
      "metadata": {
        "id": "9db_O8Co64qs"
      },
      "source": [
        "Buatlah fungsi dengan nama ```third_place``` yang dapat melakukan aktifitas berikut:\n",
        "\n",
        "Diberikan daftar nilai ujian dan daftar nama peserta. Output yang diinginkan adalah nama peserta yang mendapat nilai terbaik ke-3. Aturan penentuan urutan skor terbaik adalah sebagai berikut:\n",
        "- Skor yang lebih tinggi lebih baik\n",
        "- Apabila beberapa peserta memiliki skor tes yang sama, mereka dapat menempati nilai peringkat yang sama. Misalnya, jika 2 peserta mendapat nilai 100, maka keduanya menempati urutan pertama.\n",
        "\n",
        "Input pertama dari fungsi adalah daftar nama, dan input kedua pada fungsi adalah daftar skor.\n",
        "\n",
        "##### Example 1:\n",
        "\n",
        "Input:\n",
        "\n",
        "names = [Andi, Budi, Charlie, Dilan, Echa]\n",
        "\n",
        "score = [80, 90, 95, 100, 85]\n",
        "\n",
        "Artinya, Andi mendapat nilai 80, Budi mendapat nilai 90, Charlie mendapat nilai 95, Dilan mendapat nilai 100, dan Echa mendapat nilai 85. Nilai terbaik pertama adalah 100, dan Dilan mendapat nilai. Skor terbaik kedua adalah 95, dan Charlie mendapatkannya. Skor terbaik ketiga adalah 90, dan Budi mendapatkannya. Jadi output kita harus Budi.\n",
        "\n",
        "Output: 'The third winner: Budi'.\n",
        "\n",
        "Saat kita menjalankan ```third_place(names, score)```, outputnya akan 'The third winner: Budi'.\n",
        "\n",
        "##### Example 2:\n",
        "\n",
        "Input:\n",
        "\n",
        "names = [Andi, Budi, Charlie, Dilan, Echa]\n",
        "\n",
        "score = [80, 80, 80, 100, 90]\n",
        "\n",
        "Tartinya, Andi, Budi, dan Charlie mendapat nilai 80, Dilan mendapat nilai 100, dan Echa mendapat nilai 90. Nilai terbaik ketiga adalah 80, dan output kita harus mencantumkan SEMUA peserta yang mendapat nilai 80.\n",
        "\n",
        "Output: 'The third winner: Andi, Budi, Charlie'.\n",
        "\n",
        "Apabila kita menjalankan ```third_place(names, score)```, outputnya adalah 'The third winner: Andi, Budi, Charlie'.\n",
        "\n",
        "\n",
        "##### Example 3:\n",
        "\n",
        "Input:\n",
        "\n",
        "names = [Andi, Budi, Charlie, Dilan, Echa, Fanya]\n",
        "\n",
        "score = [80, 90, 90, 100, 100, 80]\n",
        "\n",
        "Skor terbaik pertama (juara pertama) adalah 100 - Dilan dan Echa berbagi posisi ini. Skor terbaik kedua (pemenang kedua) adalah 90 - Budi dan Charlie berbagi posisi ini. Skor terbaik ketiga (juara ketiga) adalah 80, dan itu dibagi oleh Andi dan Fanya. Jadi, output kita harusnya Andi dan Fanya.\n",
        "\n",
        "Output: 'The third winner: Andi, Fanya'."
      ]
    },
    {
      "cell_type": "code",
      "source": [
        "names = ['Andi', 'Budi', 'Charlie', 'Dilan', 'Echa', 'Fanya']\n",
        "scores = [80, 90, 90, 100, 100, 80]\n",
        "\n",
        "# Menggabungkan dua list menggunakan zip\n",
        "data = list(zip(names, scores))\n",
        "\n",
        "# Contoh cara mengakses nilai\n",
        "for name, score in data:\n",
        "    print(f\"{name} memiliki skor {score}\")"
      ],
      "metadata": {
        "colab": {
          "base_uri": "https://localhost:8080/"
        },
        "id": "8zxXSzmx8b-d",
        "outputId": "e5a28861-d381-499d-a36e-5828aa36b6a0"
      },
      "execution_count": 35,
      "outputs": [
        {
          "output_type": "stream",
          "name": "stdout",
          "text": [
            "Andi memiliki skor 80\n",
            "Budi memiliki skor 90\n",
            "Charlie memiliki skor 90\n",
            "Dilan memiliki skor 100\n",
            "Echa memiliki skor 100\n",
            "Fanya memiliki skor 80\n"
          ]
        }
      ]
    },
    {
      "cell_type": "code",
      "source": [
        "df_dict = {}\n",
        "for i in range(len(names)):\n",
        "    df_dict[names[i]] = scores[i]\n",
        "\n",
        "df_dict"
      ],
      "metadata": {
        "colab": {
          "base_uri": "https://localhost:8080/"
        },
        "id": "_EwQaGfi75jd",
        "outputId": "8fce4dc2-2ecb-4352-fc3c-395f92e213a5"
      },
      "execution_count": 36,
      "outputs": [
        {
          "output_type": "execute_result",
          "data": {
            "text/plain": [
              "{'Andi': 80, 'Budi': 90, 'Charlie': 90, 'Dilan': 100, 'Echa': 100, 'Fanya': 80}"
            ]
          },
          "metadata": {},
          "execution_count": 36
        }
      ]
    },
    {
      "cell_type": "code",
      "source": [
        "def third_place(names, scores):\n",
        "    unique_scores = list(set(scores))\n",
        "    unique_scores.sort(reverse=True)\n",
        "\n",
        "    third_place_names = []\n",
        "\n",
        "    for i in range(len(scores)):\n",
        "        if scores[i] == unique_scores[2]:\n",
        "            third_place_names.append(names[i])\n",
        "\n",
        "    print(list(range(len(scores))))\n",
        "    print(third_place_names)\n",
        "\n",
        "    if len(third_place_names) == 1:\n",
        "        print(f\"The third winner: {third_place_names[0]}\")\n",
        "    else:\n",
        "        names_string = \", \".join(third_place_names)\n",
        "        print(f\"The third winners: {names_string}\")\n",
        "\n",
        "\n",
        "third_place(names, scores)"
      ],
      "metadata": {
        "colab": {
          "base_uri": "https://localhost:8080/"
        },
        "id": "yt47ZbQvFAxt",
        "outputId": "30aa531c-1a8e-4d5a-92f6-d2044ae32d2a"
      },
      "execution_count": 53,
      "outputs": [
        {
          "output_type": "stream",
          "name": "stdout",
          "text": [
            "[0, 1, 2, 3, 4, 5]\n",
            "['Andi', 'Fanya']\n",
            "The third winners: Andi, Fanya\n"
          ]
        }
      ]
    },
    {
      "cell_type": "markdown",
      "metadata": {
        "id": "1ydxvEez64q3"
      },
      "source": [
        "###**Problem 2: Find the Square Root!**"
      ]
    },
    {
      "cell_type": "markdown",
      "metadata": {
        "id": "nvcBPlgV64q5"
      },
      "source": [
        "Buatlah fungsi dengan nama ```square_root``` yang dapat melakukan fungsi berikut:\n",
        "\n",
        "Diberikan polinomial orde kedua, temukan akarnya (akar harus dalam bilangan real). Inputnya adalah 3 angka, masing-masing mewakili 'a', 'b', dan 'c', dalam ax^2 + bx + c = 0.\n",
        "\n",
        "Tugas Anda adalah mencari akar dari ax^2 + bx + c = 0.\n",
        "\n",
        "Namun, perhatikan bahwa terkadang persamaan tidak dapat diselesaikan, atau hanya memiliki satu solusi, bukan dua. Fungsi Anda juga harus mempertimbangkan hal ini.\n",
        "\n",
        "Input fungsi Anda adalah 3 angka, angka pertama adalah konstanta 'a', angka kedua adalah konstanta 'b', dan angka ketiga adalah konstanta 'c'.\n",
        "\n",
        "##### Example 1:\n",
        "\n",
        "Input: a = 1, b = -5, c = 6.\n",
        "\n",
        "Artinya, persamaannya adalah 1x^2 - 5x + 6 = 0.\n",
        "Persamaan ini memiliki dua solusi, solusi pertama adalah x = 3, dan solusi kedua adalah x = 2. Jadi, keluaran Anda seharusnya adalah:\n",
        "\n",
        "Output: 'X1 = 3, X2 = 2'.\n",
        "\n",
        "Apabila kita menjalankan kode ```square_root(1, -5, 6)``` maka outputnya adalah: 'X1 = 3, X2 = 2'\n",
        "\n",
        "##### Example 2:\n",
        "\n",
        "Input: a = 2, b = 4, c = 2.\n",
        "\n",
        "Artinya, persamaannya adalah 2x^2 + 4x + 2 = 0.\n",
        "Persamaan ini hanya memiliki satu solusi, yaitu x = -1.\n",
        "\n",
        "Output; 'X = -1'.\n",
        "\n",
        "##### Example 3:\n",
        "\n",
        "Input: a = 1, b = 1, c = 9.\n",
        "\n",
        "Artinya, persamaannya adalah x^2 + x + 9 = 0.\n",
        "Persamaan ini tidak memiliki solusi nyata. (Jika Anda telah belajar tentang bilangan imajiner atau kompleks, solusi dari persamaan ini adalah bilangan-bilangan tersebut. Tapi di sini, kita hanya akan berurusan dengan bilangan real).\n",
        "\n",
        "Output: 'No solution'."
      ]
    },
    {
      "cell_type": "code",
      "metadata": {
        "id": "i3_ebfGq64q6"
      },
      "source": [
        "def square_root(a, b, c):\n",
        "    C = sqrt( a**2 + b**2)\n",
        "    a = x(b) - x(a)\n",
        "    b = y(b) - y(a)\n",
        "\n",
        "    C = sqrt((x(b) - x(a))**2 + (y(b) - y(a))**2)\n",
        "\n",
        "\n"
      ],
      "execution_count": 13,
      "outputs": []
    },
    {
      "cell_type": "code",
      "source": [
        "import math\n",
        "\n",
        "def square_root(a, b, c):\n",
        "    # Menghitung akar persamaan kuadrat (ax** +bx+c=0)\n",
        "    discriminant = b**2 - 4*a*c\n",
        "\n",
        "    # Memeriksa apakah terdapat solusi\n",
        "    if discriminant > 0:\n",
        "\n",
        "    # menghitung nilai X1 dan X2 ketika persamaan kuadrat memiliki dua solusi yang berbeda.\n",
        "        x1 = (-b + math.sqrt(discriminant)) / (2*a)\n",
        "        x2 = (-b - math.sqrt(discriminant)) / (2*a)\n",
        "        return f'X1 = {x1}, X2 = {x2}'\n",
        "    elif discriminant == 0:\n",
        "\n",
        "        # berarti menentukan nilai X ketika persamaan kuadrat memiliki satu solusi.\n",
        "        x = -b / (2*a)\n",
        "        return f'X = {x}'\n",
        "    else:\n",
        "        return 'No solution'\n",
        "\n",
        "\n",
        "print(square_root(1, -5, 6))\n",
        "print(square_root(2, 4, 2))\n",
        "print(square_root(1, 1, 9))"
      ],
      "metadata": {
        "colab": {
          "base_uri": "https://localhost:8080/"
        },
        "id": "V1lJenUSxKuQ",
        "outputId": "cbe96c64-6ca8-49e4-a262-03c0692bf17f"
      },
      "execution_count": 16,
      "outputs": [
        {
          "output_type": "stream",
          "name": "stdout",
          "text": [
            "X1 = 3.0, X2 = 2.0\n",
            "X = -1.0\n",
            "No solution\n"
          ]
        }
      ]
    },
    {
      "cell_type": "markdown",
      "metadata": {
        "id": "NntHmMB164q-"
      },
      "source": [
        "###**Problem 3: Find Distance Between Two Coordinates - Easy**"
      ]
    },
    {
      "cell_type": "markdown",
      "metadata": {
        "id": "12EaDJlE64q_"
      },
      "source": [
        "Buatlah fungsi dengan namna ```distance``` yang dapat melakukan fungsi berikut:\n",
        "\n",
        "Diberikan dua koordinat dalam daftar. Tugas Anda adalah menghitung jarak antara kedua koordinat tersebut. Input dari fungsi Anda akan menjadi dua daftar. Setiap daftar berisi 2 anggota, mewakili posisi x dan y.\n",
        "\n",
        "##### Example 1:\n",
        "\n",
        "Input:\n",
        "\n",
        "point_1 = [5, 5]\n",
        "\n",
        "point_2 = [1, 2]\n",
        "\n",
        "Artinya, koordinat titik pertama adalah (5,5), koordinat titik kedua adalah (1,2). Untuk menghitung jarak antara dua titik ini, kami menggunakan rumus jarak euclidean biasa di sini: https://wikimedia.org/api/rest_v1/media/math/render/svg/2e0c9ce1b3455cb9e92c6bad6684dbda02f69c82.\n",
        "\n",
        "Jaraknya adalah:\n",
        "\n",
        "Akar kuadrat dari ((5-1)^2 + (5-2)^2) = Akar kuadrat dari (16 + 9) = Akar kuadrat dari (25) = 5.\n",
        "\n",
        "Output: 'The distance is 5.'\n",
        "\n",
        "Maka, ketika kita menjalankan kode ```distance(point_1, point_2)``` outputnya akan 'The distance is 5'.\n",
        "\n",
        "##### Example 2:\n",
        "\n",
        "Input:\n",
        "\n",
        "point_1 = [0,-1]\n",
        "\n",
        "point_2 = [-3, 2]\n",
        "\n",
        "Koordinat pertama adalah (0,-1), koordinat kedua adalah (-3,2). Jarak antara mereka adalah:\n",
        "\n",
        "Akar kuadrat dari ((0- -3)^2 + (-1-2)^2) = Akar kuadrat dari (9 + 9) = Akar kuadrat dari (18) = 4,242640687\n",
        "\n",
        "Output: 'The distance is 4.242640687'.\n",
        "\n",
        "Maka, apabila kita menjalankan kode ```distance(point_1, point_2)``` outputnya adalah 'The distance is 4.242640487'.\n",
        "\n",
        "##### FAQ:\n",
        "\n",
        "- Question: \"Desimalnya dibuletin ga?\"\n",
        "- Answer: \"Ga usah peduliin format output desimalnya. Mau keluar berapa angka di belakang koma gpp kok. Yang penting value nya bener.\""
      ]
    },
    {
      "cell_type": "code",
      "metadata": {
        "id": "4rmwX2y564rA"
      },
      "source": [
        "# d(p,q) = ((q1-p1)**2 + (q2-p2) ** 0.5) adalah rumus jarak euclidean\n",
        "def distance(point_1, point_2):\n",
        "    d = ((point_2[0] - point_1[0]) ** 2 + (point_2[1] - point_1[1]) ** 2) ** 0.5\n",
        "    return f'The distance is {d}.'"
      ],
      "execution_count": 4,
      "outputs": []
    },
    {
      "cell_type": "code",
      "source": [
        "point_1 = [5, 5]\n",
        "point_2 = [1, 2]\n",
        "distance (point_1, point_2)"
      ],
      "metadata": {
        "colab": {
          "base_uri": "https://localhost:8080/",
          "height": 35
        },
        "id": "jPewIOw-r_ZJ",
        "outputId": "c20857d3-2bde-47fd-f4ca-fdfd357e6251"
      },
      "execution_count": 6,
      "outputs": [
        {
          "output_type": "execute_result",
          "data": {
            "text/plain": [
              "'The distance is 5.0.'"
            ],
            "application/vnd.google.colaboratory.intrinsic+json": {
              "type": "string"
            }
          },
          "metadata": {},
          "execution_count": 6
        }
      ]
    },
    {
      "cell_type": "code",
      "source": [
        "point_1 = [0, -1]\n",
        "point_2 = [-3, 2]\n",
        "distance (point_1, point_2)"
      ],
      "metadata": {
        "colab": {
          "base_uri": "https://localhost:8080/",
          "height": 35
        },
        "id": "gGoUL2kBuiZS",
        "outputId": "d304166d-ae94-4eac-f677-2cd9584a0517"
      },
      "execution_count": 8,
      "outputs": [
        {
          "output_type": "execute_result",
          "data": {
            "text/plain": [
              "'The distance is 4.242640687119285.'"
            ],
            "application/vnd.google.colaboratory.intrinsic+json": {
              "type": "string"
            }
          },
          "metadata": {},
          "execution_count": 8
        }
      ]
    },
    {
      "cell_type": "code",
      "source": [
        "point_1 = [0, 7]\n",
        "point_2 = [-2, 8]\n",
        "distance (point_1, point_2)"
      ],
      "metadata": {
        "colab": {
          "base_uri": "https://localhost:8080/",
          "height": 35
        },
        "id": "muihjYEiuvN6",
        "outputId": "33c2a381-c95c-4b85-e79c-bbfd9d80fe3d"
      },
      "execution_count": 9,
      "outputs": [
        {
          "output_type": "execute_result",
          "data": {
            "text/plain": [
              "'The distance is 2.23606797749979.'"
            ],
            "application/vnd.google.colaboratory.intrinsic+json": {
              "type": "string"
            }
          },
          "metadata": {},
          "execution_count": 9
        }
      ]
    }
  ]
}